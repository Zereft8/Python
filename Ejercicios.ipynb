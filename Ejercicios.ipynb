{
 "cells": [
  {
   "cell_type": "markdown",
   "metadata": {},
   "source": [
    "# Ejercicio 1 Variables y Tipos de Datos."
   ]
  },
  {
   "cell_type": "code",
   "execution_count": 2,
   "metadata": {},
   "outputs": [
    {
     "name": "stdout",
     "output_type": "stream",
     "text": [
      "Estimado Elian, le avisamos que su saldo bancario es de: 3.14\n"
     ]
    }
   ],
   "source": [
    "\n",
    "# Crea una variable llamada saldo_bancario y asígnale un valor de tipo float.\n",
    "\n",
    "saldo_bancario = 3.14\n",
    "\n",
    "# Declara una variable llamada nombre_cliente y asígnale tu nombre.\n",
    "\n",
    "nombre_cliente = \"Elian\"\n",
    "\n",
    "# Utiliza f-strings para imprimir un mensaje que incluya el nombre del cliente y su saldo bancario.\n",
    "\n",
    "print(f\"Estimado {nombre_cliente}, le avisamos que su saldo bancario es de: {saldo_bancario}\")"
   ]
  },
  {
   "cell_type": "markdown",
   "metadata": {},
   "source": [
    "# Ejercicio 2 Estructura de Datos."
   ]
  },
  {
   "cell_type": "code",
   "execution_count": 4,
   "metadata": {},
   "outputs": [
    {
     "name": "stdout",
     "output_type": "stream",
     "text": [
      "Estimado cliente su total es de: 150\n"
     ]
    }
   ],
   "source": [
    "# Crea una lista llamada historial_compras que contenga tuplas con el nombre del producto y su precio.\n",
    "\n",
    "historial_compras = [(\"Salsa\", \"Pasta\"), (85, 65)]\n",
    "\n",
    "# Calcula el total gastado sumando los precios de todos los productos en el historial de compras.\n",
    "\n",
    "total_gastado = sum(historial_compras[1])\n",
    "\n",
    "print(f\"Estimado cliente su total es de: {total_gastado}\")"
   ]
  },
  {
   "cell_type": "markdown",
   "metadata": {},
   "source": [
    "# Ejercicio 3 Control de Flujo y Funciones."
   ]
  },
  {
   "cell_type": "code",
   "execution_count": 17,
   "metadata": {},
   "outputs": [
    {
     "name": "stdout",
     "output_type": "stream",
     "text": [
      "Reprobado\n"
     ]
    }
   ],
   "source": [
    "# Escribe una función llamada calificar_notas que tome una lista de calificaciones \n",
    "# y devuelva \"Aprobado\" si todas son mayores a 6; de lo contrario, devolver \"Reprobado\".\n",
    "\n",
    "def calificar_notas(lista):\n",
    "    \n",
    "    for nota in lista:\n",
    "        if(nota < 6):\n",
    "            print(\"Reprobado\")\n",
    "            return\n",
    "\n",
    "    print(\"Aprobado\")\n",
    "\n",
    "# Crea una lista de calificaciones y utiliza la función calificar_notas \n",
    "# para imprimir el resultado.\n",
    "\n",
    "calificaciones = [5, 7, 8, 6, 9, 8]\n",
    "\n",
    "calificar_notas(calificaciones)"
   ]
  },
  {
   "cell_type": "markdown",
   "metadata": {},
   "source": [
    "# Ejercicio 4 Manipulación de Datos"
   ]
  },
  {
   "cell_type": "code",
   "execution_count": 10,
   "metadata": {},
   "outputs": [
    {
     "name": "stdout",
     "output_type": "stream",
     "text": [
      "[8, 10, 9]\n"
     ]
    }
   ],
   "source": [
    "# Utiliza la función filter para crear una lista llamada calificaciones_aprobadas \n",
    "# que contenga solo las calificaciones mayores a 6.\n",
    "\n",
    "calificaciones = [5, 7, 3, 6, 9, 8]\n",
    "\n",
    "def determinar(nota):\n",
    "    return nota > 6\n",
    "\n",
    "calificaciones_aprobadas = list(filter(determinar, calificaciones))\n",
    "\n",
    "# Utiliza la función map para incrementar en 1 cada calificación \n",
    "# en la lista calificaciones_aprobadas.\n",
    "\n",
    "def incrementar(nota):\n",
    "    return nota + 1\n",
    "\n",
    "lista_aumentada = map(incrementar, calificaciones_aprobadas)\n",
    "\n",
    "print(list(lista_aumentada))"
   ]
  }
 ],
 "metadata": {
  "kernelspec": {
   "display_name": "Python 3",
   "language": "python",
   "name": "python3"
  },
  "language_info": {
   "codemirror_mode": {
    "name": "ipython",
    "version": 3
   },
   "file_extension": ".py",
   "mimetype": "text/x-python",
   "name": "python",
   "nbconvert_exporter": "python",
   "pygments_lexer": "ipython3",
   "version": "3.12.0"
  }
 },
 "nbformat": 4,
 "nbformat_minor": 2
}
